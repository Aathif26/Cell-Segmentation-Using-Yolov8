{
  "cells": [
    {
      "cell_type": "markdown",
      "metadata": {
        "id": "lh-tOp7U2Gvu"
      },
      "source": [
        "To Check the access to GPU, we run the following command"
      ]
    },
    {
      "cell_type": "code",
      "execution_count": 3,
      "metadata": {
        "colab": {
          "base_uri": "https://localhost:8080/"
        },
        "id": "UT8eTBIv1nzj",
        "outputId": "14f57a8b-e38b-4489-8208-584e377ff830"
      },
      "outputs": [
        {
          "name": "stderr",
          "output_type": "stream",
          "text": [
            "'nvidia-smi' is not recognized as an internal or external command,\n",
            "operable program or batch file.\n"
          ]
        }
      ],
      "source": [
        "!nvidia-smi"
      ]
    },
    {
      "cell_type": "code",
      "execution_count": null,
      "metadata": {
        "colab": {
          "base_uri": "https://localhost:8080/"
        },
        "id": "j_htXzjy26Aj",
        "outputId": "bc8089c2-7916-42b9-9cd4-41e092411fdf"
      },
      "outputs": [],
      "source": [
        "import os\n",
        "HOME = os.getcwd()\n",
        "print(HOME)"
      ]
    },
    {
      "cell_type": "markdown",
      "metadata": {
        "id": "Pe_YR37D3R0r"
      },
      "source": [
        "**Installing YOLOv8**"
      ]
    },
    {
      "cell_type": "code",
      "execution_count": null,
      "metadata": {},
      "outputs": [],
      "source": [
        "!pip install ultralytics==8.0.28"
      ]
    },
    {
      "cell_type": "code",
      "execution_count": null,
      "metadata": {
        "colab": {
          "base_uri": "https://localhost:8080/"
        },
        "id": "x1qTO44C3Vw8",
        "outputId": "4c53270d-b56a-4aa6-d8e8-ebf9dd677c5e"
      },
      "outputs": [],
      "source": [
        "from IPython import display\n",
        "display.clear_output()\n",
        "\n",
        "import ultralytics\n",
        "ultralytics.checks()"
      ]
    },
    {
      "cell_type": "markdown",
      "metadata": {
        "id": "1jQs1jFjwqHb"
      },
      "source": [
        "Inference with Pre-Trained COCO Model"
      ]
    },
    {
      "cell_type": "code",
      "execution_count": null,
      "metadata": {
        "id": "PLLYf4NpzRJR"
      },
      "outputs": [],
      "source": [
        "from ultralytics import YOLO\n",
        "\n",
        "from IPython.display import display, Image"
      ]
    },
    {
      "cell_type": "markdown",
      "metadata": {
        "id": "htDeMQmO0HyI"
      },
      "source": [
        "**Using CLI**"
      ]
    },
    {
      "cell_type": "code",
      "execution_count": null,
      "metadata": {
        "colab": {
          "base_uri": "https://localhost:8080/"
        },
        "id": "w5FGLdO0wuRS",
        "outputId": "b116bfd3-3b9f-4bc2-abdd-1f4757b8fece"
      },
      "outputs": [],
      "source": [
        "%cd {HOME}\n",
        "!yolo task=segment mode=predict model=yolov8s-seg.pt conf=0.25 source='https://media.roboflow.com/notebooks/examples/dog.jpeg' save=true"
      ]
    },
    {
      "cell_type": "code",
      "execution_count": null,
      "metadata": {
        "colab": {
          "base_uri": "https://localhost:8080/",
          "height": 634
        },
        "id": "V2nOHXNuzAyJ",
        "outputId": "034159d5-fdc1-46dc-c717-8bdb44a63739"
      },
      "outputs": [],
      "source": [
        "%cd {HOME}\n",
        "Image(filename='runs/segment/predict/dog.jpeg', height=600)"
      ]
    },
    {
      "cell_type": "markdown",
      "metadata": {
        "id": "KDK5z2uQzhhL"
      },
      "source": [
        "**Using Python SDK**\n",
        "\n",
        "Simplest way of using YOLOv8 directly in Python Environment"
      ]
    },
    {
      "cell_type": "code",
      "execution_count": null,
      "metadata": {
        "colab": {
          "base_uri": "https://localhost:8080/"
        },
        "id": "uBCxDEOOzsKg",
        "outputId": "01b336b0-bd80-4ad6-8d7f-0480f4df99f4"
      },
      "outputs": [],
      "source": [
        "model = YOLO(f'{HOME}/yolov8s-seg.pt')\n",
        "results = model.predict(source='https://media.roboflow.com/notebooks/examples/dog.jpeg', conf=0.25)"
      ]
    },
    {
      "cell_type": "code",
      "execution_count": null,
      "metadata": {
        "colab": {
          "base_uri": "https://localhost:8080/"
        },
        "id": "l6WRDYr70UBX",
        "outputId": "3ea8275a-a8e6-4396-8d9d-63a98323155c"
      },
      "outputs": [],
      "source": [
        "results[0].boxes.xyxy"
      ]
    },
    {
      "cell_type": "code",
      "execution_count": null,
      "metadata": {
        "colab": {
          "base_uri": "https://localhost:8080/"
        },
        "id": "LkZtC2HN0hBv",
        "outputId": "3ca1ff7b-9acf-403b-c655-4bcb0036cbed"
      },
      "outputs": [],
      "source": [
        "results[0].boxes.conf"
      ]
    },
    {
      "cell_type": "code",
      "execution_count": null,
      "metadata": {
        "colab": {
          "base_uri": "https://localhost:8080/"
        },
        "id": "pWCdG5Mm0mB_",
        "outputId": "11bce274-5945-4ad8-dc37-ba71c570ba47"
      },
      "outputs": [],
      "source": [
        "results[0].boxes.cls"
      ]
    },
    {
      "cell_type": "code",
      "execution_count": null,
      "metadata": {
        "colab": {
          "base_uri": "https://localhost:8080/"
        },
        "id": "SSQNQTza0rv3",
        "outputId": "ce08da02-3e2d-4489-af67-666417639e22"
      },
      "outputs": [],
      "source": [
        "results[0].masks.masks"
      ]
    },
    {
      "cell_type": "markdown",
      "metadata": {
        "id": "SBpcvzr603w-"
      },
      "source": [
        "**Importing the Dataset**"
      ]
    },
    {
      "cell_type": "code",
      "execution_count": null,
      "metadata": {
        "colab": {
          "base_uri": "https://localhost:8080/"
        },
        "id": "9WjBQK9A0vPf",
        "outputId": "2896a62a-3c1f-437d-c639-3906112269a0"
      },
      "outputs": [],
      "source": [
        "from google.colab import drive\n",
        "drive.mount('/content/drive')"
      ]
    },
    {
      "cell_type": "code",
      "execution_count": null,
      "metadata": {
        "id": "gCOwUGbd0vUf"
      },
      "outputs": [],
      "source": [
        "ROOT_PATH = \"/Content/drive/My Drive/Yolov8-seg\""
      ]
    },
    {
      "cell_type": "code",
      "execution_count": null,
      "metadata": {
        "colab": {
          "base_uri": "https://localhost:8080/"
        },
        "id": "gE66Hg6B1a1_",
        "outputId": "c4ae28b7-711f-466d-eef5-518301b2f824"
      },
      "outputs": [],
      "source": [
        "!pwd"
      ]
    },
    {
      "cell_type": "code",
      "execution_count": null,
      "metadata": {
        "colab": {
          "base_uri": "https://localhost:8080/"
        },
        "id": "M2q4t3UA1fGW",
        "outputId": "6922532c-e877-4916-e35b-78f3aea20bee"
      },
      "outputs": [],
      "source": [
        "%cd \"/content/drive/My Drive/Yolov8-seg\""
      ]
    },
    {
      "cell_type": "code",
      "execution_count": null,
      "metadata": {
        "colab": {
          "base_uri": "https://localhost:8080/"
        },
        "id": "CQvmwEP91f7s",
        "outputId": "329b0a8c-e5eb-40ec-f73e-1d12fa9d4220"
      },
      "outputs": [],
      "source": [
        "!pwd"
      ]
    },
    {
      "cell_type": "code",
      "execution_count": null,
      "metadata": {
        "colab": {
          "base_uri": "https://localhost:8080/"
        },
        "id": "gj5MFe6_1f-l",
        "outputId": "7d7d366d-7fd7-4074-c27f-7dc3764b3fbc"
      },
      "outputs": [],
      "source": [
        "!ls"
      ]
    },
    {
      "cell_type": "markdown",
      "metadata": {
        "id": "zZREgmPL13XF"
      },
      "source": [
        "**Custom Training**"
      ]
    },
    {
      "cell_type": "code",
      "execution_count": null,
      "metadata": {
        "colab": {
          "base_uri": "https://localhost:8080/"
        },
        "id": "_05d30E81gB5",
        "outputId": "073a845c-ab6d-40ee-b2b4-cefd281800fe"
      },
      "outputs": [],
      "source": [
        "!yolo task=segment mode=train model=yolov8s-seg.pt data=data.yaml epochs=10 imgsz=640 save=true"
      ]
    },
    {
      "cell_type": "code",
      "execution_count": null,
      "metadata": {
        "colab": {
          "base_uri": "https://localhost:8080/"
        },
        "id": "Wq8llXLE8owm",
        "outputId": "c2183639-5476-4ff6-9fc0-8bd9de0f8272"
      },
      "outputs": [],
      "source": [
        "!ls runs/segment/train2/"
      ]
    },
    {
      "cell_type": "code",
      "execution_count": null,
      "metadata": {
        "colab": {
          "base_uri": "https://localhost:8080/",
          "height": 467
        },
        "id": "9r7uEJTw8o0W",
        "outputId": "eff4cc0c-1263-47a8-8870-de21458f98d5"
      },
      "outputs": [],
      "source": [
        "Image(filename=f'runs/segment/train2/confusion_matrix.png', width=600)"
      ]
    },
    {
      "cell_type": "code",
      "execution_count": null,
      "metadata": {
        "colab": {
          "base_uri": "https://localhost:8080/",
          "height": 217
        },
        "id": "99nspq6X8o4X",
        "outputId": "1b2fd5ff-b580-4004-ffb5-aea6888fd59a"
      },
      "outputs": [],
      "source": [
        "Image(filename=f'runs/segment/train2/results.png', width=600)"
      ]
    },
    {
      "cell_type": "code",
      "execution_count": null,
      "metadata": {
        "colab": {
          "base_uri": "https://localhost:8080/",
          "height": 617
        },
        "id": "2l9E-_Wo8o8G",
        "outputId": "1f3c668f-533f-4552-b86a-f2c01dcf9940"
      },
      "outputs": [],
      "source": [
        "Image(filename=f'runs/segment/train2/val_batch0_pred.jpg', width=600)"
      ]
    },
    {
      "cell_type": "markdown",
      "metadata": {
        "id": "vm1LNTtcBPZq"
      },
      "source": [
        "**Validate Custome Model**"
      ]
    },
    {
      "cell_type": "code",
      "execution_count": null,
      "metadata": {
        "colab": {
          "base_uri": "https://localhost:8080/"
        },
        "id": "eNeBEZNPBTqo",
        "outputId": "95e9aefd-bf32-498f-afff-effb35a3973b"
      },
      "outputs": [],
      "source": [
        "!yolo task=segment mode=val model=runs/segment/train2/weights/best.pt data=data.yaml"
      ]
    },
    {
      "cell_type": "markdown",
      "metadata": {
        "id": "CuWS-397DeLA"
      },
      "source": [
        "**Inference with Custom Model**"
      ]
    },
    {
      "cell_type": "code",
      "execution_count": null,
      "metadata": {
        "colab": {
          "base_uri": "https://localhost:8080/"
        },
        "id": "Sx6g1woIDiP5",
        "outputId": "1b3ab671-4b33-4320-94fe-0a46947d3941"
      },
      "outputs": [],
      "source": [
        "!yolo task=segment mode=predict model=runs/segment/train2/weights/best.pt conf=0.25 source=cell_data/test/images save=true"
      ]
    },
    {
      "cell_type": "code",
      "execution_count": null,
      "metadata": {
        "colab": {
          "base_uri": "https://localhost:8080/",
          "height": 652
        },
        "id": "W4pomU7oEZx1",
        "outputId": "ce708f61-8656-43de-ea85-5d8e1ccec252"
      },
      "outputs": [],
      "source": [
        "import glob\n",
        "from IPython.display import Image, display\n",
        "\n",
        "for image_path in glob.glob(f'runs/segment/predict/*.jpg')[:3]:\n",
        "  display(Image(filename=image_path, height=600))\n",
        "  print(\"\\n\")"
      ]
    }
  ],
  "metadata": {
    "accelerator": "GPU",
    "colab": {
      "gpuType": "T4",
      "provenance": []
    },
    "kernelspec": {
      "display_name": "Python 3",
      "name": "python3"
    },
    "language_info": {
      "codemirror_mode": {
        "name": "ipython",
        "version": 3
      },
      "file_extension": ".py",
      "mimetype": "text/x-python",
      "name": "python",
      "nbconvert_exporter": "python",
      "pygments_lexer": "ipython3",
      "version": "3.11.4"
    }
  },
  "nbformat": 4,
  "nbformat_minor": 0
}
